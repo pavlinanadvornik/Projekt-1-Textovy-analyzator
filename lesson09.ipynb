{
 "cells": [
  {
   "cell_type": "markdown",
   "metadata": {},
   "source": [
    "# Python akademie\n",
    "\n",
    "---\n",
    "\n",
    "<br>\n",
    "\n",
    "## Obsah lekce\n",
    "---\n",
    "\n",
    "\n",
    "1. [Úvod do IO](#Úvod-do-IO),\n",
    "2. [Spojení se souborem pomocí Pythonu](#Spojení-se-souborem-pomocí-Pythonu),\n",
    "3. [Textové soubory](#Textové-soubory),\n",
    "4. [Zápis s kontextovým manažerem](#Zápis-s-kontextovým-manažerem),\n",
    "5. [Formátování řetězců (~string formatting)](#Formátování-řetězců-(~string-formatting)).\n",
    "\n",
    "\n",
    "---"
   ]
  },
  {
   "cell_type": "markdown",
   "metadata": {},
   "source": [
    "<br>\n",
    "\n",
    "<img src=\"https://external-content.duckduckgo.com/iu/?u=https%3A%2F%2Ftse4.mm.bing.net%2Fth%3Fid%3DOIP.BPYuvKj05Xo_oF_oXiL1yAHaHa%26pid%3DApi&f=1\" width=\"250\" style=\"margin-left:auto; margin-right:auto\">"
   ]
  },
  {
   "cell_type": "markdown",
   "metadata": {},
   "source": [
    "## Úvod do IO\n",
    "\n",
    "---\n",
    "\n",
    "Nyní pracuješ pouze s objekty **Pythonu vlastními** nebo **s jeho knihovnami**.\n",
    "\n",
    "Všechny tyto *objekty* jsi vytvoříš a zpracováváš **v rámci paměti RAM** (*random access memory*).\n",
    "\n",
    "<br>\n",
    "\n",
    "*Paměť RAM* je **velmi rychlá**, ale současně náročná a vyžaduje **neustálý zdroj** (není elektřina, ztratíš data).\n",
    "\n",
    "Takový **disk počítače** je o dost **pomalejší** než paměť *RAM*, ale umožňuje ti uchovávat tebou získaná, zpracovaná data.\n",
    "\n",
    "<br>\n",
    "\n",
    "Proto je dobré osvojit si pravidla a postupy v Pythonu, jak vytvořit **persistentní data**.\n",
    "\n",
    "<br>"
   ]
  },
  {
   "cell_type": "markdown",
   "metadata": {},
   "source": [
    "<br>\n",
    "\n",
    "<img src=\"https://external-content.duckduckgo.com/iu/?u=https%3A%2F%2Ftse1.mm.bing.net%2Fth%3Fid%3DOIP.h0qswb-mu-Ay17g7L_gwYwHaHa%26pid%3DApi&f=1&ipt=88ac91ad4993d84f5f1996a1644d85f41dead53dc1526c82b95099dfc7e5a6b1&ipo=images\" width=\"200\" style=\"margin-left:auto; margin-right:auto\">"
   ]
  },
  {
   "cell_type": "code",
   "execution_count": 12,
   "metadata": {},
   "outputs": [],
   "source": [
    "# .xlsx, ... --> konvertovat .csv"
   ]
  },
  {
   "cell_type": "code",
   "execution_count": 13,
   "metadata": {},
   "outputs": [],
   "source": [
    "# .csv\n",
    "# .json"
   ]
  },
  {
   "cell_type": "code",
   "execution_count": 14,
   "metadata": {},
   "outputs": [],
   "source": [
    "# .py\n",
    "# .ipynb\n",
    "# .txt \n",
    "# .csv \n",
    "# .json"
   ]
  },
  {
   "cell_type": "code",
   "execution_count": 15,
   "metadata": {},
   "outputs": [],
   "source": [
    "# .txt\n",
    "# .csv \n",
    "# .json\n",
    "# .xml\n",
    "# .m .slx  (MathWorks)\n",
    "# .js .cpp .hpp\n",
    "# .png .jpg\n",
    "# .laz .pcd\n",
    "# ..."
   ]
  },
  {
   "cell_type": "code",
   "execution_count": 16,
   "metadata": {},
   "outputs": [
    {
     "name": "stdout",
     "output_type": "stream",
     "text": [
      "bonus_iris.ipynb     jina_data\t      logs.txt\n",
      "bonus_pandas.ipynb   json2csv.py      muj_prvni_soubor.txt\n",
      "bonus_weather.ipynb  lekce11.zip      mypy_example.py\n",
      "chinese.txt\t     lekce9.zip       nove_soubory\n",
      "chyba.py\t     lesson01.ipynb   prvni_soubor.py\n",
      "code_points.png      lesson02.ipynb   python.txt\n",
      "czech.txt\t     lesson03.ipynb   ramec.py\n",
      "data\t\t     lesson04.ipynb   task\n",
      "demo_module.py\t     lesson05.ipynb   test\n",
      "emaily.txt\t     lesson06.ipynb   test.csv\n",
      "example_argparse.py  lesson07.ipynb   ukazka.txt\n",
      "example_argv.py      lesson08.ipynb   uloha_live.py\n",
      "example_click.py     lesson09.ipynb   uloha.py\n",
      "example.py\t     lesson10.ipynb   viceradkovy_soubor_kopie.txt\n",
      "hello_world.py\t     lesson11.ipynb   viceradkovy_soubor.txt\n",
      "iris.json\t     lesson12.ipynb\n",
      "iter_example.py      lint_example.py\n"
     ]
    }
   ],
   "source": [
    "!ls"
   ]
  },
  {
   "cell_type": "markdown",
   "metadata": {},
   "source": [
    "### Spojení se souborem pomocí Pythonu\n",
    "\n",
    "---\n",
    "\n",
    "Klasickou cestou, jak vytvořit obyčejný soubor je poskládat údaje (bajty) za hlavičkou, tedy **jménem souboru**.\n",
    "\n",
    "<br>\n",
    "\n",
    "Než ale začneš se souborem pracovat, potřebuješ si v Pythonu vytvořit *pomocný objekt*, který jej bude **zastupovat** (nebo se na něj odkazovat):"
   ]
  },
  {
   "cell_type": "markdown",
   "metadata": {},
   "source": [
    "```python\n",
    "muj_soubor = open(jmeno_souboru, pravidla)  # pomocný objekt\n",
    "\n",
    "# ... libovolná ohlášení\n",
    "\n",
    "muj_soubor.close()\n",
    "```"
   ]
  },
  {
   "cell_type": "markdown",
   "metadata": {},
   "source": [
    "1. `muj_soubor`, je **Pythonovský objekt** odkazující na **soubor**,\n",
    "2. `open()`, *zabudovaná funkce*, která **vytváří spojení** (*stream*) mezi objektem a souborem,\n",
    "3. `jmeno_souboru`, jméno souboru (*relativní* cesta/*absolutní* cesta),\n",
    "4. `pravidla`, výběr argumentů upřesňujících, **jak soubor otevřít**,\n",
    "5. `muj_soubor.close`, způsob, kterým **ukončíš spojení** mezi objektem a souborem."
   ]
  },
  {
   "cell_type": "markdown",
   "metadata": {},
   "source": [
    "<br>\n",
    "\n",
    "<img src=\"https://external-content.duckduckgo.com/iu/?u=https%3A%2F%2Ftse2.mm.bing.net%2Fth%3Fid%3DOIP.JhMJc09m94e9V3oKtb_n3AHaHa%26pid%3DApi&f=1\" width=\"200\" style=\"margin-left:auto; margin-right:auto\">"
   ]
  },
  {
   "cell_type": "markdown",
   "metadata": {},
   "source": [
    "## Textové soubory\n",
    "\n",
    "---\n",
    "\n",
    "Nejlepším souborem na začátek bude prostý **textový soubor**.\n",
    "\n",
    "Textovým souborem rozuměj jakýkoliv soubor, který má příponu `.txt`.\n",
    "\n",
    "#### Demo: Ukázka textového souboru"
   ]
  },
  {
   "cell_type": "markdown",
   "metadata": {},
   "source": [
    "<br>\n",
    "\n",
    "### Úvod k souborům\n",
    "\n",
    "---\n",
    "\n",
    "Základními procesy pro práci se soubory obecně jsou:\n",
    "1. **Čtení** souborů,\n",
    "2. **Zápis** do souborů."
   ]
  },
  {
   "cell_type": "markdown",
   "metadata": {},
   "source": [
    "### Čtení souborů\n",
    "\n",
    "---\n",
    "\n",
    "Otevřít a přečíst *textový soubor* pomocí *editorů* jistě ovládáš.\n",
    "\n",
    "Teď se podívej, jak můžeš naučit otevírání a čtení souborů také **interpreta Pythonu**:"
   ]
  },
  {
   "cell_type": "code",
   "execution_count": 17,
   "metadata": {},
   "outputs": [
    {
     "ename": "NameError",
     "evalue": "name 'demo' is not defined",
     "output_type": "error",
     "traceback": [
      "\u001b[0;31m---------------------------------------------------------------------------\u001b[0m",
      "\u001b[0;31mNameError\u001b[0m                                 Traceback (most recent call last)",
      "Cell \u001b[0;32mIn[17], line 1\u001b[0m\n\u001b[0;32m----> 1\u001b[0m muj_nacteny_txt_soubor \u001b[38;5;241m=\u001b[39m \u001b[38;5;28mopen\u001b[39m(\u001b[43mdemo\u001b[49m\u001b[38;5;241m.\u001b[39mtxt)\n",
      "\u001b[0;31mNameError\u001b[0m: name 'demo' is not defined"
     ]
    }
   ],
   "source": [
    "muj_nacteny_txt_soubor = open(demo.txt)"
   ]
  },
  {
   "cell_type": "code",
   "execution_count": null,
   "metadata": {},
   "outputs": [
    {
     "ename": "FileNotFoundError",
     "evalue": "[Errno 2] No such file or directory: 'demo.txt'",
     "output_type": "error",
     "traceback": [
      "\u001b[0;31m---------------------------------------------------------------------------\u001b[0m",
      "\u001b[0;31mFileNotFoundError\u001b[0m                         Traceback (most recent call last)",
      "Cell \u001b[0;32mIn[1], line 1\u001b[0m\n\u001b[0;32m----> 1\u001b[0m muj_nacteny_txt_soubor \u001b[38;5;241m=\u001b[39m \u001b[38;5;28;43mopen\u001b[39;49m\u001b[43m(\u001b[49m\u001b[38;5;124;43m'\u001b[39;49m\u001b[38;5;124;43mdemo.txt\u001b[39;49m\u001b[38;5;124;43m'\u001b[39;49m\u001b[43m)\u001b[49m\n",
      "File \u001b[0;32m~/.pyenv/versions/3.10.4/lib/python3.10/site-packages/IPython/core/interactiveshell.py:324\u001b[0m, in \u001b[0;36m_modified_open\u001b[0;34m(file, *args, **kwargs)\u001b[0m\n\u001b[1;32m    317\u001b[0m \u001b[38;5;28;01mif\u001b[39;00m file \u001b[38;5;129;01min\u001b[39;00m {\u001b[38;5;241m0\u001b[39m, \u001b[38;5;241m1\u001b[39m, \u001b[38;5;241m2\u001b[39m}:\n\u001b[1;32m    318\u001b[0m     \u001b[38;5;28;01mraise\u001b[39;00m \u001b[38;5;167;01mValueError\u001b[39;00m(\n\u001b[1;32m    319\u001b[0m         \u001b[38;5;124mf\u001b[39m\u001b[38;5;124m\"\u001b[39m\u001b[38;5;124mIPython won\u001b[39m\u001b[38;5;124m'\u001b[39m\u001b[38;5;124mt let you open fd=\u001b[39m\u001b[38;5;132;01m{\u001b[39;00mfile\u001b[38;5;132;01m}\u001b[39;00m\u001b[38;5;124m by default \u001b[39m\u001b[38;5;124m\"\u001b[39m\n\u001b[1;32m    320\u001b[0m         \u001b[38;5;124m\"\u001b[39m\u001b[38;5;124mas it is likely to crash IPython. If you know what you are doing, \u001b[39m\u001b[38;5;124m\"\u001b[39m\n\u001b[1;32m    321\u001b[0m         \u001b[38;5;124m\"\u001b[39m\u001b[38;5;124myou can use builtins\u001b[39m\u001b[38;5;124m'\u001b[39m\u001b[38;5;124m open.\u001b[39m\u001b[38;5;124m\"\u001b[39m\n\u001b[1;32m    322\u001b[0m     )\n\u001b[0;32m--> 324\u001b[0m \u001b[38;5;28;01mreturn\u001b[39;00m \u001b[43mio_open\u001b[49m\u001b[43m(\u001b[49m\u001b[43mfile\u001b[49m\u001b[43m,\u001b[49m\u001b[43m \u001b[49m\u001b[38;5;241;43m*\u001b[39;49m\u001b[43margs\u001b[49m\u001b[43m,\u001b[49m\u001b[43m \u001b[49m\u001b[38;5;241;43m*\u001b[39;49m\u001b[38;5;241;43m*\u001b[39;49m\u001b[43mkwargs\u001b[49m\u001b[43m)\u001b[49m\n",
      "\u001b[0;31mFileNotFoundError\u001b[0m: [Errno 2] No such file or directory: 'demo.txt'"
     ]
    }
   ],
   "source": [
    "muj_nacteny_txt_soubor = open('demo.txt')"
   ]
  },
  {
   "cell_type": "code",
   "execution_count": null,
   "metadata": {},
   "outputs": [
    {
     "name": "stdout",
     "output_type": "stream",
     "text": [
      "chinese.txt\t lesson04.ipynb  lesson11.ipynb\n",
      "code_points.png  lesson05.ipynb  lesson12.ipynb\n",
      "czech.txt\t lesson06.ipynb  muj_prvni_soubor.txt\n",
      "demo_module.py\t lesson07.ipynb  python.txt\n",
      "lesson01.ipynb\t lesson08.ipynb  ukazka.txt\n",
      "lesson02.ipynb\t lesson09.ipynb  viceradkovy_soubor_kopie.txt\n",
      "lesson03.ipynb\t lesson10.ipynb  viceradkovy_soubor.txt\n"
     ]
    }
   ],
   "source": [
    "!ls"
   ]
  },
  {
   "cell_type": "code",
   "execution_count": null,
   "metadata": {},
   "outputs": [],
   "source": [
    "muj_nacteny_txt_soubor = open('muj_prvni_soubor.txt')#,\n",
    "                            #   mode='r',\n",
    "                            #   encoding='UTF-8')"
   ]
  },
  {
   "cell_type": "markdown",
   "metadata": {},
   "source": [
    "<br>\n",
    "\n",
    "Dávej pozor, jakým způsobem **jméno souboru** používáš. Python potřebuje pracovat s takovým datovým typem, který dobře zná."
   ]
  },
  {
   "cell_type": "code",
   "execution_count": null,
   "metadata": {},
   "outputs": [
    {
     "name": "stdout",
     "output_type": "stream",
     "text": [
      "<_io.TextIOWrapper name='muj_prvni_soubor.txt' mode='r' encoding='UTF-8'>\n"
     ]
    }
   ],
   "source": [
    "print(muj_nacteny_txt_soubor)"
   ]
  },
  {
   "cell_type": "code",
   "execution_count": null,
   "metadata": {},
   "outputs": [
    {
     "data": {
      "text/plain": [
       "['_CHUNK_SIZE',\n",
       " '__class__',\n",
       " '__del__',\n",
       " '__delattr__',\n",
       " '__dict__',\n",
       " '__dir__',\n",
       " '__doc__',\n",
       " '__enter__',\n",
       " '__eq__',\n",
       " '__exit__',\n",
       " '__format__',\n",
       " '__ge__',\n",
       " '__getattribute__',\n",
       " '__gt__',\n",
       " '__hash__',\n",
       " '__init__',\n",
       " '__init_subclass__',\n",
       " '__iter__',\n",
       " '__le__',\n",
       " '__lt__',\n",
       " '__ne__',\n",
       " '__new__',\n",
       " '__next__',\n",
       " '__reduce__',\n",
       " '__reduce_ex__',\n",
       " '__repr__',\n",
       " '__setattr__',\n",
       " '__sizeof__',\n",
       " '__str__',\n",
       " '__subclasshook__',\n",
       " '_checkClosed',\n",
       " '_checkReadable',\n",
       " '_checkSeekable',\n",
       " '_checkWritable',\n",
       " '_finalizing',\n",
       " 'buffer',\n",
       " 'close',\n",
       " 'closed',\n",
       " 'detach',\n",
       " 'encoding',\n",
       " 'errors',\n",
       " 'fileno',\n",
       " 'flush',\n",
       " 'isatty',\n",
       " 'line_buffering',\n",
       " 'mode',\n",
       " 'name',\n",
       " 'newlines',\n",
       " 'read',\n",
       " 'readable',\n",
       " 'readline',\n",
       " 'readlines',\n",
       " 'reconfigure',\n",
       " 'seek',\n",
       " 'seekable',\n",
       " 'tell',\n",
       " 'truncate',\n",
       " 'writable',\n",
       " 'write',\n",
       " 'write_through',\n",
       " 'writelines']"
      ]
     },
     "execution_count": 5,
     "metadata": {},
     "output_type": "execute_result"
    }
   ],
   "source": [
    "dir(muj_nacteny_txt_soubor)"
   ]
  },
  {
   "cell_type": "markdown",
   "metadata": {},
   "source": [
    "Další kolizí může být **umístění** souboru.\n",
    "\n",
    "<br>\n",
    "\n",
    "*Interpret* pracuje **v aktuálním umístění**.\n",
    "\n",
    "Takže buď soubor přesuneš, nebo na něj odkážeš pomocí:\n",
    "1. **Relativní cesty** (tedy vzhledem k aktuálnímu umístění),\n",
    "2. **absolutní cesty** (celá cesta od *roota* nebo *jména disku*)."
   ]
  },
  {
   "cell_type": "markdown",
   "metadata": {},
   "source": [
    "<br>\n",
    "\n",
    "#### Relativní cesta\n",
    "```\n",
    "\"muj_textovy_soubor.txt\"                # v aktuální složce\n",
    "\"../muj_textovy_soubor.txt\"             # v rodičovské složce\n",
    "\"../shared/onsite/muj_textovy_soubor.txt\"  # v dceřinné složce 'shared', v dceřinné složce 'onsite'\n",
    "```\n",
    "\n",
    "#### Absolutní cesta, Windows\n",
    "```\n",
    "\"C:\\users\\admin\\docs\\muj_textovy_soubor.txt\"\n",
    "```\n",
    "\n",
    "#### Absolutní cesta, unix\n",
    "```\n",
    "\"/home/user/project/shared/onsite/muj_textovy_soubor.txt\"\n",
    "```"
   ]
  },
  {
   "cell_type": "code",
   "execution_count": null,
   "metadata": {},
   "outputs": [
    {
     "name": "stdout",
     "output_type": "stream",
     "text": [
      "<_io.TextIOWrapper name='muj_prvni_soubor.txt' mode='r' encoding='UTF-8'>\n"
     ]
    }
   ],
   "source": [
    "print(muj_nacteny_txt_soubor)"
   ]
  },
  {
   "cell_type": "code",
   "execution_count": null,
   "metadata": {},
   "outputs": [
    {
     "name": "stdout",
     "output_type": "stream",
     "text": [
      "<class '_io.TextIOWrapper'>\n"
     ]
    }
   ],
   "source": [
    "print(type(muj_nacteny_txt_soubor))"
   ]
  },
  {
   "cell_type": "markdown",
   "metadata": {},
   "source": [
    "<br>\n",
    "\n",
    "Metody **pro čtění obsahu** *TextIOWrapper* objektu:\n",
    "\n",
    "1. `read` - přečte celý soubor jako jeden string,\n",
    "2. `readline` - přečte pouze první řádek jako string,\n",
    "3. `readlines` - přečte celý soubor jako list (co řádek, to údaj)\n",
    "\n",
    "<br>"
   ]
  },
  {
   "cell_type": "code",
   "execution_count": null,
   "metadata": {},
   "outputs": [
    {
     "data": {
      "text/plain": [
       "<_io.TextIOWrapper name='muj_prvni_soubor.txt' mode='r' encoding='UTF-8'>"
      ]
     },
     "execution_count": 3,
     "metadata": {},
     "output_type": "execute_result"
    }
   ],
   "source": [
    "muj_nacteny_txt_soubor"
   ]
  },
  {
   "cell_type": "code",
   "execution_count": null,
   "metadata": {},
   "outputs": [],
   "source": [
    "obsah_txt = muj_nacteny_txt_soubor.read()"
   ]
  },
  {
   "cell_type": "code",
   "execution_count": null,
   "metadata": {},
   "outputs": [
    {
     "name": "stdout",
     "output_type": "stream",
     "text": [
      "Toto je můj krátký textový soubor.\n",
      "<class 'str'>\n"
     ]
    }
   ],
   "source": [
    "print(obsah_txt,\n",
    "      type(obsah_txt),\n",
    "      sep='\\n')"
   ]
  },
  {
   "cell_type": "code",
   "execution_count": null,
   "metadata": {},
   "outputs": [
    {
     "name": "stdout",
     "output_type": "stream",
     "text": [
      "['Toto', 'je', 'můj', 'krátký', 'textový', 'soubor.']\n"
     ]
    }
   ],
   "source": [
    "print(obsah_txt.split())"
   ]
  },
  {
   "cell_type": "code",
   "execution_count": 20,
   "metadata": {},
   "outputs": [],
   "source": [
    "obsah_txt_list = muj_nacteny_txt_soubor.readlines()"
   ]
  },
  {
   "cell_type": "code",
   "execution_count": 21,
   "metadata": {},
   "outputs": [
    {
     "name": "stdout",
     "output_type": "stream",
     "text": [
      "[]\n"
     ]
    }
   ],
   "source": [
    "print(obsah_txt_list)"
   ]
  },
  {
   "cell_type": "markdown",
   "metadata": {},
   "source": [
    "<br>\n",
    "\n",
    "Pokud čteš jednotlivé znaky, **pomyslný kurzor** je postupně prochází.\n",
    "\n",
    "Jakmile s ním dojdeš nakonec, **musíš jej ručně vrátit na začátek**, pokud chceš obsah souboru znovu načíst:"
   ]
  },
  {
   "cell_type": "code",
   "execution_count": 22,
   "metadata": {},
   "outputs": [
    {
     "data": {
      "text/plain": [
       "0"
      ]
     },
     "execution_count": 22,
     "metadata": {},
     "output_type": "execute_result"
    }
   ],
   "source": [
    "muj_nacteny_txt_soubor.seek(0)     # Nastaví kurzor na začátek .txt souboru"
   ]
  },
  {
   "cell_type": "code",
   "execution_count": 23,
   "metadata": {},
   "outputs": [],
   "source": [
    "obsah_txt_list = muj_nacteny_txt_soubor.readlines()"
   ]
  },
  {
   "cell_type": "code",
   "execution_count": 24,
   "metadata": {},
   "outputs": [
    {
     "name": "stdout",
     "output_type": "stream",
     "text": [
      "['Toto je můj krátký textový soubor.']\n"
     ]
    }
   ],
   "source": [
    "print(obsah_txt_list)"
   ]
  },
  {
   "cell_type": "code",
   "execution_count": 16,
   "metadata": {},
   "outputs": [
    {
     "name": "stdout",
     "output_type": "stream",
     "text": [
      "<class 'list'>\n"
     ]
    }
   ],
   "source": [
    "print(type(obsah_txt_list))"
   ]
  },
  {
   "cell_type": "code",
   "execution_count": 17,
   "metadata": {},
   "outputs": [
    {
     "name": "stdout",
     "output_type": "stream",
     "text": [
      "<class 'str'>\n"
     ]
    }
   ],
   "source": [
    "print(type(obsah_txt_list[0]))"
   ]
  },
  {
   "cell_type": "markdown",
   "metadata": {},
   "source": [
    "Jakmile tvoje práce s textovými souborem skončí, nezapomeň soubor zavřít."
   ]
  },
  {
   "cell_type": "markdown",
   "metadata": {},
   "source": [
    "<br>\n",
    "\n",
    "Pokud si potřebuješ jen ověřit, jestli je spojení se souborem ukončené, použij att `closed`:"
   ]
  },
  {
   "cell_type": "code",
   "execution_count": null,
   "metadata": {},
   "outputs": [
    {
     "data": {
      "text/plain": [
       "False"
      ]
     },
     "execution_count": 18,
     "metadata": {},
     "output_type": "execute_result"
    }
   ],
   "source": [
    "muj_nacteny_txt_soubor.closed  "
   ]
  },
  {
   "cell_type": "code",
   "execution_count": 25,
   "metadata": {},
   "outputs": [],
   "source": [
    "muj_nacteny_txt_soubor.close()"
   ]
  },
  {
   "cell_type": "markdown",
   "metadata": {},
   "source": [
    "#### Recap\n",
    "\n",
    "---"
   ]
  },
  {
   "cell_type": "code",
   "execution_count": null,
   "metadata": {},
   "outputs": [],
   "source": [
    "muj_nacteny_txt_soubor = open(\n",
    "    'muj_prvni_soubor.txt', mode='r'\n",
    ")\n",
    "\n",
    "obsah_txt = muj_nacteny_txt_soubor.readlines()\n",
    "\n",
    "muj_nacteny_txt_soubor.close()"
   ]
  },
  {
   "cell_type": "code",
   "execution_count": 28,
   "metadata": {},
   "outputs": [],
   "source": [
    "def precti_txt_soubor(jmeno_souboru: str,\n",
    "                      mod: str = 'r') -> list:\n",
    "    muj_nacteny_txt_soubor = open(jmeno_souboru,\n",
    "                                  mode=mod)\n",
    "\n",
    "    obsah_txt = muj_nacteny_txt_soubor.readlines()\n",
    "    \n",
    "    muj_nacteny_txt_soubor.close()\n",
    "    \n",
    "    return obsah_txt"
   ]
  },
  {
   "cell_type": "code",
   "execution_count": 30,
   "metadata": {},
   "outputs": [],
   "source": [
    "obsah_txt_souboru = precti_txt_soubor(\n",
    "    jmeno_souboru='muj_prvni_soubor.txt'\n",
    ")"
   ]
  },
  {
   "cell_type": "code",
   "execution_count": 31,
   "metadata": {},
   "outputs": [
    {
     "name": "stdout",
     "output_type": "stream",
     "text": [
      "['Toto je můj krátký textový soubor. ']\n"
     ]
    }
   ],
   "source": [
    "print(obsah_txt_souboru)"
   ]
  },
  {
   "cell_type": "code",
   "execution_count": 27,
   "metadata": {},
   "outputs": [
    {
     "data": {
      "text/plain": [
       "['Slunce svítí nad zelenými loukam.\\n',\n",
       " 'Dnes je krásný den plný radosti.\\n',\n",
       " 'Ptáci zpívají na rozkvetlém stromě.\\n',\n",
       " 'Děti si hrají na hřišti u lesa.\\n',\n",
       " 'Večer budeme opékat buřty u ohně.\\n',\n",
       " 'Kniha na stole je velmi zajímavá.\\n',\n",
       " 'Město se probouzí do nového dne.\\n',\n",
       " 'Auto projelo kolem starého mostu.\\n',\n",
       " 'Voda v řece je dnes velmi studená.\\n',\n",
       " 'Zítra půjdu na výklet do hor.']"
      ]
     },
     "execution_count": 27,
     "metadata": {},
     "output_type": "execute_result"
    }
   ],
   "source": [
    "muj_txt = open(\"viceradkovy_soubor.txt\", mode=\"r\")\n",
    "muj_txt.readlines()"
   ]
  },
  {
   "cell_type": "code",
   "execution_count": 28,
   "metadata": {},
   "outputs": [],
   "source": [
    "muj_txt.close()"
   ]
  },
  {
   "cell_type": "code",
   "execution_count": 29,
   "metadata": {},
   "outputs": [
    {
     "name": "stdout",
     "output_type": "stream",
     "text": [
      "Slunce svítí nad zelenými loukam.\n",
      "Dnes je krásný den plný radosti.\n",
      "Ptáci zpívají na rozkvetlém stromě.\n",
      "Děti si hrají na hřišti u lesa.\n",
      "Večer budeme opékat buřty u ohně.\n",
      "Kniha na stole je velmi zajímavá.\n",
      "Město se probouzí do nového dne.\n",
      "Auto projelo kolem starého mostu.\n",
      "Voda v řece je dnes velmi studená.\n",
      "Zítra půjdu na výklet do hor."
     ]
    }
   ],
   "source": [
    "muj_txt = open(\"viceradkovy_soubor.txt\", mode=\"r\")\n",
    "for radek in muj_txt.readlines():\n",
    "    print(radek, end=\"\")"
   ]
  },
  {
   "cell_type": "code",
   "execution_count": 31,
   "metadata": {},
   "outputs": [
    {
     "name": "stdout",
     "output_type": "stream",
     "text": [
      "1\n",
      "2\n",
      "3\n"
     ]
    },
    {
     "ename": "TypeError",
     "evalue": "'set' object is not subscriptable",
     "output_type": "error",
     "traceback": [
      "\u001b[0;31m---------------------------------------------------------------------------\u001b[0m",
      "\u001b[0;31mTypeError\u001b[0m                                 Traceback (most recent call last)",
      "Cell \u001b[0;32mIn[31], line 4\u001b[0m\n\u001b[1;32m      2\u001b[0m \u001b[38;5;28;01mfor\u001b[39;00m prvek \u001b[38;5;129;01min\u001b[39;00m s:\n\u001b[1;32m      3\u001b[0m     \u001b[38;5;28mprint\u001b[39m(prvek)\n\u001b[0;32m----> 4\u001b[0m \u001b[43ms\u001b[49m\u001b[43m[\u001b[49m\u001b[38;5;241;43m0\u001b[39;49m\u001b[43m]\u001b[49m\n",
      "\u001b[0;31mTypeError\u001b[0m: 'set' object is not subscriptable"
     ]
    }
   ],
   "source": [
    "s = set([1, 2, 3])\n",
    "for prvek in s:\n",
    "    print(prvek)\n",
    "s[0]"
   ]
  },
  {
   "cell_type": "code",
   "execution_count": 31,
   "metadata": {},
   "outputs": [
    {
     "ename": "TypeError",
     "evalue": "'int' object is not iterable",
     "output_type": "error",
     "traceback": [
      "\u001b[0;31m---------------------------------------------------------------------------\u001b[0m",
      "\u001b[0;31mTypeError\u001b[0m                                 Traceback (most recent call last)",
      "Cell \u001b[0;32mIn[31], line 1\u001b[0m\n\u001b[0;32m----> 1\u001b[0m \u001b[38;5;28;43miter\u001b[39;49m\u001b[43m(\u001b[49m\u001b[38;5;241;43m123\u001b[39;49m\u001b[43m)\u001b[49m\n",
      "\u001b[0;31mTypeError\u001b[0m: 'int' object is not iterable"
     ]
    }
   ],
   "source": [
    "iter(123)"
   ]
  },
  {
   "cell_type": "code",
   "execution_count": 23,
   "metadata": {},
   "outputs": [
    {
     "data": {
      "text/plain": [
       "<set_iterator at 0x7ff0e846d480>"
      ]
     },
     "execution_count": 23,
     "metadata": {},
     "output_type": "execute_result"
    }
   ],
   "source": [
    "iter(set({1, 2, 3}))"
   ]
  },
  {
   "cell_type": "code",
   "execution_count": 32,
   "metadata": {},
   "outputs": [
    {
     "ename": "TypeError",
     "evalue": "'_io.TextIOWrapper' object is not subscriptable",
     "output_type": "error",
     "traceback": [
      "\u001b[0;31m---------------------------------------------------------------------------\u001b[0m",
      "\u001b[0;31mTypeError\u001b[0m                                 Traceback (most recent call last)",
      "Cell \u001b[0;32mIn[32], line 2\u001b[0m\n\u001b[1;32m      1\u001b[0m muj_txt \u001b[38;5;241m=\u001b[39m \u001b[38;5;28mopen\u001b[39m(\u001b[38;5;124m\"\u001b[39m\u001b[38;5;124mviceradkovy_soubor.txt\u001b[39m\u001b[38;5;124m\"\u001b[39m, mode\u001b[38;5;241m=\u001b[39m\u001b[38;5;124m\"\u001b[39m\u001b[38;5;124mr\u001b[39m\u001b[38;5;124m\"\u001b[39m)\n\u001b[0;32m----> 2\u001b[0m \u001b[43mmuj_txt\u001b[49m\u001b[43m[\u001b[49m\u001b[38;5;241;43m0\u001b[39;49m\u001b[43m]\u001b[49m\n",
      "\u001b[0;31mTypeError\u001b[0m: '_io.TextIOWrapper' object is not subscriptable"
     ]
    }
   ],
   "source": [
    "muj_txt = open(\"viceradkovy_soubor.txt\", mode=\"r\")\n",
    "muj_txt[0]"
   ]
  },
  {
   "cell_type": "code",
   "execution_count": 33,
   "metadata": {},
   "outputs": [
    {
     "data": {
      "text/plain": [
       "<_io.TextIOWrapper name='viceradkovy_soubor.txt' mode='r' encoding='UTF-8'>"
      ]
     },
     "execution_count": 33,
     "metadata": {},
     "output_type": "execute_result"
    }
   ],
   "source": [
    "iter(muj_txt)"
   ]
  },
  {
   "cell_type": "code",
   "execution_count": 3,
   "metadata": {},
   "outputs": [
    {
     "data": {
      "text/plain": [
       "['_CHUNK_SIZE',\n",
       " '__class__',\n",
       " '__del__',\n",
       " '__delattr__',\n",
       " '__dict__',\n",
       " '__dir__',\n",
       " '__doc__',\n",
       " '__enter__',\n",
       " '__eq__',\n",
       " '__exit__',\n",
       " '__format__',\n",
       " '__ge__',\n",
       " '__getattribute__',\n",
       " '__gt__',\n",
       " '__hash__',\n",
       " '__init__',\n",
       " '__init_subclass__',\n",
       " '__iter__',\n",
       " '__le__',\n",
       " '__lt__',\n",
       " '__ne__',\n",
       " '__new__',\n",
       " '__next__',\n",
       " '__reduce__',\n",
       " '__reduce_ex__',\n",
       " '__repr__',\n",
       " '__setattr__',\n",
       " '__sizeof__',\n",
       " '__str__',\n",
       " '__subclasshook__',\n",
       " '_checkClosed',\n",
       " '_checkReadable',\n",
       " '_checkSeekable',\n",
       " '_checkWritable',\n",
       " '_finalizing',\n",
       " 'buffer',\n",
       " 'close',\n",
       " 'closed',\n",
       " 'detach',\n",
       " 'encoding',\n",
       " 'errors',\n",
       " 'fileno',\n",
       " 'flush',\n",
       " 'isatty',\n",
       " 'line_buffering',\n",
       " 'mode',\n",
       " 'name',\n",
       " 'newlines',\n",
       " 'read',\n",
       " 'readable',\n",
       " 'readline',\n",
       " 'readlines',\n",
       " 'reconfigure',\n",
       " 'seek',\n",
       " 'seekable',\n",
       " 'tell',\n",
       " 'truncate',\n",
       " 'writable',\n",
       " 'write',\n",
       " 'write_through',\n",
       " 'writelines']"
      ]
     },
     "execution_count": 3,
     "metadata": {},
     "output_type": "execute_result"
    }
   ],
   "source": [
    "dir(muj_txt)"
   ]
  },
  {
   "cell_type": "code",
   "execution_count": 34,
   "metadata": {},
   "outputs": [
    {
     "name": "stdout",
     "output_type": "stream",
     "text": [
      "Slunce svítí nad zelenými loukam\n",
      "Dnes je krásný den plný radosti.\n",
      "Ptáci zpívají na rozkvetlém stromě.\n",
      "Děti si hrají na hřišti u lesa.\n",
      "Večer budeme opékat buřty u ohně.\n",
      "Kniha na stole je velmi zajímavá.\n",
      "Město se probouzí do nového dne.\n",
      "Auto projelo kolem starého mostu.\n",
      "Voda v řece je dnes velmi studená.\n",
      "Zítra půjdu na výklet do hor."
     ]
    }
   ],
   "source": [
    "for radek in muj_txt:\n",
    "    print(radek, end='')"
   ]
  },
  {
   "cell_type": "code",
   "execution_count": 35,
   "metadata": {},
   "outputs": [],
   "source": [
    "muj_txt.close()"
   ]
  },
  {
   "cell_type": "code",
   "execution_count": 36,
   "metadata": {},
   "outputs": [
    {
     "ename": "ValueError",
     "evalue": "I/O operation on closed file.",
     "output_type": "error",
     "traceback": [
      "\u001b[0;31m---------------------------------------------------------------------------\u001b[0m",
      "\u001b[0;31mValueError\u001b[0m                                Traceback (most recent call last)",
      "Cell \u001b[0;32mIn[36], line 1\u001b[0m\n\u001b[0;32m----> 1\u001b[0m \u001b[43mmuj_txt\u001b[49m\u001b[38;5;241;43m.\u001b[39;49m\u001b[43mread\u001b[49m\u001b[43m(\u001b[49m\u001b[43m)\u001b[49m\n",
      "\u001b[0;31mValueError\u001b[0m: I/O operation on closed file."
     ]
    }
   ],
   "source": [
    "muj_txt.read()"
   ]
  },
  {
   "cell_type": "markdown",
   "metadata": {},
   "source": [
    "<br>\n",
    "\n",
    "### Zápis do souborů\n",
    "\n",
    "---\n",
    "\n",
    "Pokud všem žádný textový soubor nemáš, nebo jej chceš naopak **vytvořit**, musíš jej prvně **zapsat**:"
   ]
  },
  {
   "cell_type": "code",
   "execution_count": 37,
   "metadata": {},
   "outputs": [],
   "source": [
    "muj_string = \"Toto je můj nový soubor^.^\""
   ]
  },
  {
   "cell_type": "markdown",
   "metadata": {},
   "source": [
    "<br>\n",
    "\n",
    "*String* `muj_txt` máš aktuálně k dispozici pouze jako nějaký objekt Pythonu.\n",
    "\n",
    "Opět je potřeba nejprve spojit **objekt v Pythonu** se skutečným souborem na disku."
   ]
  },
  {
   "cell_type": "code",
   "execution_count": 40,
   "metadata": {},
   "outputs": [],
   "source": [
    "muj_druhy_txt_soubor = open(\n",
    "    \"muj_zapsany.txt\",\n",
    "    mode='w'\n",
    ")"
   ]
  },
  {
   "cell_type": "code",
   "execution_count": 39,
   "metadata": {},
   "outputs": [
    {
     "data": {
      "text/plain": [
       "<_io.TextIOWrapper name='muj_zapsany.txt' mode='w' encoding='UTF-8'>"
      ]
     },
     "execution_count": 39,
     "metadata": {},
     "output_type": "execute_result"
    }
   ],
   "source": [
    "muj_druhy_txt_soubor"
   ]
  },
  {
   "cell_type": "code",
   "execution_count": 37,
   "metadata": {},
   "outputs": [],
   "source": [
    "# muj_druhy_txt_soubor.close()"
   ]
  },
  {
   "cell_type": "code",
   "execution_count": 42,
   "metadata": {},
   "outputs": [
    {
     "ename": "UnsupportedOperation",
     "evalue": "not readable",
     "output_type": "error",
     "traceback": [
      "\u001b[0;31m---------------------------------------------------------------------------\u001b[0m",
      "\u001b[0;31mUnsupportedOperation\u001b[0m                      Traceback (most recent call last)",
      "Cell \u001b[0;32mIn[42], line 1\u001b[0m\n\u001b[0;32m----> 1\u001b[0m \u001b[43mmuj_druhy_txt_soubor\u001b[49m\u001b[38;5;241;43m.\u001b[39;49m\u001b[43mread\u001b[49m\u001b[43m(\u001b[49m\u001b[43m)\u001b[49m\n",
      "\u001b[0;31mUnsupportedOperation\u001b[0m: not readable"
     ]
    }
   ],
   "source": [
    "muj_druhy_txt_soubor.read()"
   ]
  },
  {
   "cell_type": "code",
   "execution_count": 39,
   "metadata": {},
   "outputs": [
    {
     "data": {
      "text/plain": [
       "<_io.TextIOWrapper name='muj_zapsany.txt' mode='w' encoding='UTF-8'>"
      ]
     },
     "execution_count": 39,
     "metadata": {},
     "output_type": "execute_result"
    }
   ],
   "source": [
    "muj_druhy_txt_soubor"
   ]
  },
  {
   "cell_type": "markdown",
   "metadata": {},
   "source": [
    "<br>\n",
    "\n",
    "Soubor si následně můžeš otevřít, ale zjistíš, že je **v tento moment prázdný**.\n",
    "\n",
    "Funkce `open` pouze vytvoří (*~iniciuje*) nový objekt `muj_druhy_txt_soubor`.\n",
    "\n",
    "Příslušný text teprve musíme zapsat, pomocí vhodné *funkce* `write`:"
   ]
  },
  {
   "cell_type": "code",
   "execution_count": 8,
   "metadata": {},
   "outputs": [
    {
     "name": "stdout",
     "output_type": "stream",
     "text": [
      "Toto je můj nový soubor^.^\n"
     ]
    }
   ],
   "source": [
    "print(muj_string)"
   ]
  },
  {
   "cell_type": "code",
   "execution_count": 43,
   "metadata": {},
   "outputs": [
    {
     "data": {
      "text/plain": [
       "26"
      ]
     },
     "execution_count": 43,
     "metadata": {},
     "output_type": "execute_result"
    }
   ],
   "source": [
    "muj_druhy_txt_soubor.write(muj_string)"
   ]
  },
  {
   "cell_type": "markdown",
   "metadata": {},
   "source": [
    "<br>\n",
    "\n",
    "Spojení se souborem je **pořád aktivní**."
   ]
  },
  {
   "cell_type": "code",
   "execution_count": 10,
   "metadata": {},
   "outputs": [
    {
     "data": {
      "text/plain": [
       "False"
      ]
     },
     "execution_count": 10,
     "metadata": {},
     "output_type": "execute_result"
    }
   ],
   "source": [
    "muj_druhy_txt_soubor.closed"
   ]
  },
  {
   "cell_type": "code",
   "execution_count": 44,
   "metadata": {},
   "outputs": [],
   "source": [
    "muj_druhy_txt_soubor.close()"
   ]
  },
  {
   "cell_type": "code",
   "execution_count": 12,
   "metadata": {},
   "outputs": [
    {
     "data": {
      "text/plain": [
       "True"
      ]
     },
     "execution_count": 12,
     "metadata": {},
     "output_type": "execute_result"
    }
   ],
   "source": [
    "muj_druhy_txt_soubor.closed"
   ]
  },
  {
   "cell_type": "code",
   "execution_count": 45,
   "metadata": {},
   "outputs": [
    {
     "ename": "ValueError",
     "evalue": "I/O operation on closed file.",
     "output_type": "error",
     "traceback": [
      "\u001b[0;31m---------------------------------------------------------------------------\u001b[0m",
      "\u001b[0;31mValueError\u001b[0m                                Traceback (most recent call last)",
      "Cell \u001b[0;32mIn[45], line 1\u001b[0m\n\u001b[0;32m----> 1\u001b[0m \u001b[43mmuj_druhy_txt_soubor\u001b[49m\u001b[38;5;241;43m.\u001b[39;49m\u001b[43mwrite\u001b[49m\u001b[43m(\u001b[49m\u001b[43mmuj_string\u001b[49m\u001b[43m)\u001b[49m\n",
      "\u001b[0;31mValueError\u001b[0m: I/O operation on closed file."
     ]
    }
   ],
   "source": [
    "muj_druhy_txt_soubor.write(muj_string)"
   ]
  },
  {
   "cell_type": "markdown",
   "metadata": {},
   "source": [
    "<br>\n",
    "\n",
    "Teprve nyní je soubor uzavřený a můžeme zkontrolovat jeho obsah."
   ]
  },
  {
   "cell_type": "code",
   "execution_count": 46,
   "metadata": {},
   "outputs": [],
   "source": [
    "muj_druhy_string = \"Očekávám text na druhém řádku!\""
   ]
  },
  {
   "cell_type": "code",
   "execution_count": 47,
   "metadata": {},
   "outputs": [],
   "source": [
    "muj_existujici_txt = open(\n",
    "    \"muj_zapsany.txt\",\n",
    "    mode=\"w\"\n",
    ")"
   ]
  },
  {
   "cell_type": "code",
   "execution_count": 48,
   "metadata": {},
   "outputs": [
    {
     "data": {
      "text/plain": [
       "30"
      ]
     },
     "execution_count": 48,
     "metadata": {},
     "output_type": "execute_result"
    }
   ],
   "source": [
    "muj_existujici_txt.write(muj_druhy_string)"
   ]
  },
  {
   "cell_type": "code",
   "execution_count": 49,
   "metadata": {},
   "outputs": [],
   "source": [
    "muj_existujici_txt.close()"
   ]
  },
  {
   "cell_type": "markdown",
   "metadata": {},
   "source": [
    "Teprve po ukončení *streamu* (nebo také zápisu) objektu, můžeš soubor `muj_novy_soubor.txt` prozkoumat."
   ]
  },
  {
   "cell_type": "code",
   "execution_count": 50,
   "metadata": {},
   "outputs": [],
   "source": [
    "muj_existujici_txt = open(\n",
    "    \"muj_zapsany.txt\",\n",
    "    mode=\"w\"\n",
    ")"
   ]
  },
  {
   "cell_type": "code",
   "execution_count": 51,
   "metadata": {},
   "outputs": [
    {
     "data": {
      "text/plain": [
       "'Toto je můj nový soubor^.^'"
      ]
     },
     "execution_count": 51,
     "metadata": {},
     "output_type": "execute_result"
    }
   ],
   "source": [
    "muj_string  # \\n"
   ]
  },
  {
   "cell_type": "code",
   "execution_count": 52,
   "metadata": {},
   "outputs": [
    {
     "data": {
      "text/plain": [
       "'Očekávám text na druhém řádku!'"
      ]
     },
     "execution_count": 52,
     "metadata": {},
     "output_type": "execute_result"
    }
   ],
   "source": [
    "muj_druhy_string"
   ]
  },
  {
   "cell_type": "code",
   "execution_count": 53,
   "metadata": {},
   "outputs": [
    {
     "data": {
      "text/plain": [
       "31"
      ]
     },
     "execution_count": 53,
     "metadata": {},
     "output_type": "execute_result"
    }
   ],
   "source": [
    "muj_existujici_txt.write(muj_string + \"\\n\")\n",
    "# ................\n",
    "muj_existujici_txt.write(muj_druhy_string + \"\\n\")"
   ]
  },
  {
   "cell_type": "code",
   "execution_count": 54,
   "metadata": {},
   "outputs": [],
   "source": [
    "muj_existujici_txt.close()"
   ]
  },
  {
   "cell_type": "code",
   "execution_count": 22,
   "metadata": {},
   "outputs": [],
   "source": [
    "muj_existujici_txt_list = open(\n",
    "    \"muj_zapsany.txt\",\n",
    "    mode=\"w\"\n",
    ")"
   ]
  },
  {
   "cell_type": "code",
   "execution_count": 23,
   "metadata": {},
   "outputs": [],
   "source": [
    "# Zapíšu několik řádků současně, pomocí sekvence\n",
    "muj_existujici_txt_list.writelines((\n",
    "    muj_string + \"\\n\", \n",
    "    muj_druhy_string + \"\\n\"))"
   ]
  },
  {
   "cell_type": "code",
   "execution_count": 24,
   "metadata": {},
   "outputs": [],
   "source": [
    "muj_existujici_txt_list.close()"
   ]
  },
  {
   "cell_type": "markdown",
   "metadata": {},
   "source": [
    "<br>\n",
    "\n",
    "### 🧠 CVIČENÍ 🧠, Vyzkoušej si práci s *textovým souborem*:"
   ]
  },
  {
   "cell_type": "markdown",
   "metadata": {},
   "source": [
    "1. Funkce `zapis_zpravu_do_txt_souboru` přijímá dva parametry `zprava` a `jmeno_souboru`,\n",
    "2. Funkce otevře nový soubor, zapíše zprávu a spojení se souborem ukončí,\n",
    "3. Vyzkoušej funkci spustit pro dva různé textové soubory."
   ]
  },
  {
   "cell_type": "code",
   "execution_count": 63,
   "metadata": {},
   "outputs": [],
   "source": [
    "def zapis_zpravu_do_txt_souboru(zprava: str,\n",
    "                                jmeno_souboru: str\n",
    "                               ):\n",
    "    # Vytvoříme spojení s daným argumentem a souborem ..\n",
    "    muj_txt_soubor = open(jmeno_souboru,\n",
    "                          mode='w',\n",
    "                          encoding='UTF-8')\n",
    "\n",
    "    # zapíšeme zprávu do souboru ..\n",
    "    muj_txt_soubor.write(zprava)\n",
    "\n",
    "    # uzavřeme spojení se souborem.\n",
    "    muj_txt_soubor.close()"
   ]
  },
  {
   "cell_type": "code",
   "execution_count": 64,
   "metadata": {},
   "outputs": [],
   "source": [
    "zapis_zpravu_do_txt_souboru(\n",
    "    zprava=\"Ahojte, toto je testovací zpráva!\",\n",
    "    jmeno_souboru='test_soubor.txt'\n",
    ")"
   ]
  },
  {
   "cell_type": "markdown",
   "metadata": {},
   "source": [
    "<details>\n",
    "  <summary>▶️ Klikni zde pro zobrazení řešení</summary>\n",
    "   \n",
    "```python\n",
    "def zapis_zpravu_do_txt_souboru(zprava: str, jmeno_souboru: str) -> None:\n",
    "    muj_soubor = open(jmeno_souboru, mode='w')\n",
    "    muj_soubor.write(zprava)\n",
    "    muj_soubor.close()\n",
    "\n",
    "zapis_zpravu_do_txt_souboru(\"Ahojte, toto je testovací zpráva!\", 'test_soubor.txt')\n",
    "```\n",
    "</details>"
   ]
  },
  {
   "cell_type": "markdown",
   "metadata": {},
   "source": [
    "<br>\n",
    "\n",
    "### Opakovaný zápis do souboru\n",
    "\n",
    "---\n",
    "\n",
    "Máš situaci, kdy tebou vytvořený soubor existuje a ty jej chceš znovu otevřít a rozšířit:"
   ]
  },
  {
   "cell_type": "code",
   "execution_count": 25,
   "metadata": {},
   "outputs": [],
   "source": [
    "dalsi_string = \"\\nRád čtu a hraji na klavír\""
   ]
  },
  {
   "cell_type": "markdown",
   "metadata": {},
   "source": [
    "<br>\n",
    "\n",
    "Opět potřebuješ inicializovat **pomocný objekt**, jako v předchozích scénářích:"
   ]
  },
  {
   "cell_type": "code",
   "execution_count": 26,
   "metadata": {},
   "outputs": [],
   "source": [
    "muj_stavajici_soubor = open(\n",
    "    \"muj_zapsany.txt\",\n",
    "    mode=\"w\"\n",
    ")"
   ]
  },
  {
   "cell_type": "code",
   "execution_count": 27,
   "metadata": {},
   "outputs": [
    {
     "data": {
      "text/plain": [
       "26"
      ]
     },
     "execution_count": 27,
     "metadata": {},
     "output_type": "execute_result"
    }
   ],
   "source": [
    "muj_stavajici_soubor.write(dalsi_string)"
   ]
  },
  {
   "cell_type": "code",
   "execution_count": 28,
   "metadata": {},
   "outputs": [],
   "source": [
    "muj_stavajici_soubor.close()"
   ]
  },
  {
   "cell_type": "markdown",
   "metadata": {},
   "source": [
    "Když zkontroluješ, jak vypadá **nově přidaný text**, bude vypadat zmateně.\n",
    "\n",
    "<br>\n",
    "\n",
    "Pokud opětovně načteš **stejný soubor** v režimu `w`, přesuneš \"zapisovač\" (*představ si jej jako blikající kurzor v editoru*) opět **na začátek souboru**.\n",
    "\n",
    "*Interpret* zapisuje od místa, kde se zapisovač nachází, takže dojde **k přepsání původního obsahu**.\n",
    "\n",
    "<br>\n",
    "\n",
    "Pokud chceš automaticky zapisovat **od konce souboru**, otevři soubor s argumentem `mode=\"a\"`, tedy v režimu `append`."
   ]
  },
  {
   "cell_type": "code",
   "execution_count": 55,
   "metadata": {},
   "outputs": [],
   "source": [
    "prvni_radek = \"Ahoj, ja jsem Matouš (:\""
   ]
  },
  {
   "cell_type": "code",
   "execution_count": 56,
   "metadata": {},
   "outputs": [],
   "source": [
    "druhy_radek = \"\\nToto je druhý řádek!\""
   ]
  },
  {
   "cell_type": "code",
   "execution_count": 57,
   "metadata": {},
   "outputs": [],
   "source": [
    "treti_radek = \"\\nRád čtu, hraji na klavír\""
   ]
  },
  {
   "cell_type": "markdown",
   "metadata": {},
   "source": [
    "<br>\n",
    "\n",
    "V kombinaci s novým režimem **append**:"
   ]
  },
  {
   "cell_type": "code",
   "execution_count": 58,
   "metadata": {},
   "outputs": [],
   "source": [
    "muj_soubor = open(\"muj_zapsany.txt\", mode=\"a\")"
   ]
  },
  {
   "cell_type": "code",
   "execution_count": 49,
   "metadata": {},
   "outputs": [
    {
     "data": {
      "text/plain": [
       "<_io.TextIOWrapper name='muj_zapsany.txt' mode='a' encoding='UTF-8'>"
      ]
     },
     "execution_count": 49,
     "metadata": {},
     "output_type": "execute_result"
    }
   ],
   "source": [
    "muj_soubor"
   ]
  },
  {
   "cell_type": "code",
   "execution_count": 59,
   "metadata": {},
   "outputs": [
    {
     "data": {
      "text/plain": [
       "24"
      ]
     },
     "execution_count": 59,
     "metadata": {},
     "output_type": "execute_result"
    }
   ],
   "source": [
    "muj_soubor.write(\"\\n\" + prvni_radek)"
   ]
  },
  {
   "cell_type": "code",
   "execution_count": 60,
   "metadata": {},
   "outputs": [],
   "source": [
    "muj_soubor.close()"
   ]
  },
  {
   "cell_type": "code",
   "execution_count": 59,
   "metadata": {},
   "outputs": [
    {
     "data": {
      "text/plain": [
       "'\\nToto je druhý řádek!'"
      ]
     },
     "execution_count": 59,
     "metadata": {},
     "output_type": "execute_result"
    }
   ],
   "source": [
    "druhy_radek"
   ]
  },
  {
   "cell_type": "code",
   "execution_count": 64,
   "metadata": {},
   "outputs": [],
   "source": [
    "muj_soubor = open(\"muj_zapsany.txt\", mode=\"a\")"
   ]
  },
  {
   "cell_type": "code",
   "execution_count": 65,
   "metadata": {},
   "outputs": [
    {
     "data": {
      "text/plain": [
       "21"
      ]
     },
     "execution_count": 65,
     "metadata": {},
     "output_type": "execute_result"
    }
   ],
   "source": [
    "muj_soubor.write(druhy_radek)"
   ]
  },
  {
   "cell_type": "code",
   "execution_count": null,
   "metadata": {},
   "outputs": [
    {
     "ename": "UnsupportedOperation",
     "evalue": "not readable",
     "output_type": "error",
     "traceback": [
      "\u001b[0;31m---------------------------------------------------------------------------\u001b[0m",
      "\u001b[0;31mUnsupportedOperation\u001b[0m                      Traceback (most recent call last)",
      "Cell \u001b[0;32mIn[66], line 1\u001b[0m\n\u001b[0;32m----> 1\u001b[0m \u001b[43mmuj_soubor\u001b[49m\u001b[38;5;241;43m.\u001b[39;49m\u001b[43mread\u001b[49m\u001b[43m(\u001b[49m\u001b[43m)\u001b[49m\n",
      "\u001b[0;31mUnsupportedOperation\u001b[0m: not readable"
     ]
    }
   ],
   "source": [
    "muj_soubor.read()"
   ]
  },
  {
   "cell_type": "code",
   "execution_count": 66,
   "metadata": {},
   "outputs": [
    {
     "data": {
      "text/plain": [
       "'\\nRád čtu, hraji na klavír'"
      ]
     },
     "execution_count": 66,
     "metadata": {},
     "output_type": "execute_result"
    }
   ],
   "source": [
    "treti_radek"
   ]
  },
  {
   "cell_type": "code",
   "execution_count": 67,
   "metadata": {},
   "outputs": [
    {
     "data": {
      "text/plain": [
       "0"
      ]
     },
     "execution_count": 67,
     "metadata": {},
     "output_type": "execute_result"
    }
   ],
   "source": [
    "muj_soubor = open(\"muj_zapsany.txt\", mode=\"r\")\n",
    "muj_soubor.tell()"
   ]
  },
  {
   "cell_type": "code",
   "execution_count": 68,
   "metadata": {},
   "outputs": [],
   "source": [
    "muj_soubor.close()"
   ]
  },
  {
   "cell_type": "code",
   "execution_count": 69,
   "metadata": {},
   "outputs": [
    {
     "data": {
      "text/plain": [
       "139"
      ]
     },
     "execution_count": 69,
     "metadata": {},
     "output_type": "execute_result"
    }
   ],
   "source": [
    "muj_soubor = open(\"muj_zapsany.txt\", mode=\"a\")\n",
    "muj_soubor.tell()"
   ]
  },
  {
   "cell_type": "code",
   "execution_count": 70,
   "metadata": {},
   "outputs": [],
   "source": [
    "muj_soubor.close()"
   ]
  },
  {
   "cell_type": "code",
   "execution_count": 71,
   "metadata": {},
   "outputs": [],
   "source": [
    "muj_soubor = open(\"muj_zapsany.txt\", mode=\"r+\")"
   ]
  },
  {
   "cell_type": "code",
   "execution_count": 72,
   "metadata": {},
   "outputs": [
    {
     "data": {
      "text/plain": [
       "0"
      ]
     },
     "execution_count": 72,
     "metadata": {},
     "output_type": "execute_result"
    }
   ],
   "source": [
    "muj_soubor.tell()"
   ]
  },
  {
   "cell_type": "code",
   "execution_count": 73,
   "metadata": {},
   "outputs": [
    {
     "data": {
      "text/plain": [
       "'Toto je můj nový soubor^.^\\nOčekávám text na druhém řádku!\\n\\nAhoj, ja jsem Matouš (:\\nToto je druhý řádek!\\nToto je druhý řádek!'"
      ]
     },
     "execution_count": 73,
     "metadata": {},
     "output_type": "execute_result"
    }
   ],
   "source": [
    "muj_soubor.read()"
   ]
  },
  {
   "cell_type": "code",
   "execution_count": 74,
   "metadata": {},
   "outputs": [
    {
     "data": {
      "text/plain": [
       "139"
      ]
     },
     "execution_count": 74,
     "metadata": {},
     "output_type": "execute_result"
    }
   ],
   "source": [
    "muj_soubor.tell()"
   ]
  },
  {
   "cell_type": "code",
   "execution_count": 75,
   "metadata": {},
   "outputs": [
    {
     "data": {
      "text/plain": [
       "12"
      ]
     },
     "execution_count": 75,
     "metadata": {},
     "output_type": "execute_result"
    }
   ],
   "source": [
    "muj_soubor.write(\"\\nNovy radek!\")"
   ]
  },
  {
   "cell_type": "code",
   "execution_count": 76,
   "metadata": {},
   "outputs": [],
   "source": [
    "muj_soubor.close()"
   ]
  },
  {
   "cell_type": "code",
   "execution_count": 77,
   "metadata": {},
   "outputs": [],
   "source": [
    "muj_soubor = open(\"muj_zapsany.txt\", mode=\"r+\")"
   ]
  },
  {
   "cell_type": "code",
   "execution_count": 78,
   "metadata": {},
   "outputs": [
    {
     "data": {
      "text/plain": [
       "0"
      ]
     },
     "execution_count": 78,
     "metadata": {},
     "output_type": "execute_result"
    }
   ],
   "source": [
    "muj_soubor.tell()"
   ]
  },
  {
   "cell_type": "code",
   "execution_count": 79,
   "metadata": {},
   "outputs": [
    {
     "data": {
      "text/plain": [
       "4"
      ]
     },
     "execution_count": 79,
     "metadata": {},
     "output_type": "execute_result"
    }
   ],
   "source": [
    "muj_soubor.write(\"Test\")"
   ]
  },
  {
   "cell_type": "code",
   "execution_count": 80,
   "metadata": {},
   "outputs": [],
   "source": [
    "muj_soubor.close()"
   ]
  },
  {
   "cell_type": "markdown",
   "metadata": {},
   "source": [
    "<br>\n",
    "\n",
    "Pokud budeš někdy pracovat se stejným souborem tak, že jej budeš současně:\n",
    "1. **číst** soubor,\n",
    "2. **zapisovat** do něj.\n",
    "    \n",
    "Vyzkoušej režim `r+`."
   ]
  },
  {
   "cell_type": "code",
   "execution_count": 45,
   "metadata": {},
   "outputs": [],
   "source": [
    "muj_soubor = open(\"muj_zapsany.txt\", mode=\"r+\")"
   ]
  },
  {
   "cell_type": "code",
   "execution_count": 46,
   "metadata": {},
   "outputs": [],
   "source": [
    "obsah_pred_zapisem = muj_soubor.readlines()"
   ]
  },
  {
   "cell_type": "code",
   "execution_count": 47,
   "metadata": {},
   "outputs": [
    {
     "name": "stdout",
     "output_type": "stream",
     "text": [
      "['Rád čtu a hraji na klavír\\n', 'Ahoj, ja jsem Matouš (:\\n', 'Toto je druhý řádek!']\n"
     ]
    }
   ],
   "source": [
    "print(obsah_pred_zapisem)"
   ]
  },
  {
   "cell_type": "code",
   "execution_count": 48,
   "metadata": {},
   "outputs": [
    {
     "data": {
      "text/plain": [
       "77"
      ]
     },
     "execution_count": 48,
     "metadata": {},
     "output_type": "execute_result"
    }
   ],
   "source": [
    "muj_soubor.tell()"
   ]
  },
  {
   "cell_type": "code",
   "execution_count": 49,
   "metadata": {},
   "outputs": [
    {
     "data": {
      "text/plain": [
       "23"
      ]
     },
     "execution_count": 49,
     "metadata": {},
     "output_type": "execute_result"
    }
   ],
   "source": [
    "muj_soubor.write('\\nA ještě poslední řádek')"
   ]
  },
  {
   "cell_type": "code",
   "execution_count": 50,
   "metadata": {},
   "outputs": [],
   "source": [
    "muj_soubor.close()"
   ]
  },
  {
   "cell_type": "markdown",
   "metadata": {},
   "source": [
    "<br>\n",
    "\n",
    "<img src=\"https://external-content.duckduckgo.com/iu/?u=https%3A%2F%2Ftse1.mm.bing.net%2Fth%3Fid%3DOIP.eUy0yqtKrsDHeiUI1dWKggHaHa%26pid%3DApi&f=1&ipt=69ae33045a754823160a963754bc498c4c560ed92d3f57186fdc778816155ef9&ipo=images\" width=\"200\" style=\"margin-left:auto; margin-right:auto\">"
   ]
  },
  {
   "cell_type": "markdown",
   "metadata": {},
   "source": [
    "### Zápis s kontextovým manažerem\n",
    "\n",
    "Zápis můžeš doplnit/rozšířit tzv. *kontextovým manažerem*."
   ]
  },
  {
   "cell_type": "code",
   "execution_count": null,
   "metadata": {},
   "outputs": [
    {
     "name": "stdout",
     "output_type": "stream",
     "text": [
      "['Python is a high-level, general-purpose programming language. Its design philosophy emphasizes code readability with the use of significant indentation.']\n"
     ]
    }
   ],
   "source": [
    "muj_soubor = open(\"python.txt\", mode=\"r\")  # open\n",
    "print(muj_soubor.readlines())            # process\n",
    "\n",
    "# Nastane chyba! IndexError --> Vadí!\n",
    "\n",
    "muj_soubor.close()                       # close"
   ]
  },
  {
   "cell_type": "markdown",
   "metadata": {},
   "source": [
    "<br>\n",
    "\n",
    "Opakování a hlídání 3 základních kroků se může zdát svazující.\n",
    "\n",
    "V Pythonu existuje klíčový výraz `with`:"
   ]
  },
  {
   "cell_type": "code",
   "execution_count": 179,
   "metadata": {},
   "outputs": [
    {
     "data": {
      "text/plain": [
       "<function TextIOWrapper.__enter__>"
      ]
     },
     "execution_count": 179,
     "metadata": {},
     "output_type": "execute_result"
    }
   ],
   "source": [
    "open(\"muj_zapsany.txt\", mode=\"r\").__enter__"
   ]
  },
  {
   "cell_type": "code",
   "execution_count": 181,
   "metadata": {},
   "outputs": [
    {
     "data": {
      "text/plain": [
       "<function TextIOWrapper.__exit__>"
      ]
     },
     "execution_count": 181,
     "metadata": {},
     "output_type": "execute_result"
    }
   ],
   "source": [
    "open(\"muj_zapsany.txt\", mode=\"r\").__exit__"
   ]
  },
  {
   "cell_type": "code",
   "execution_count": null,
   "metadata": {},
   "outputs": [],
   "source": [
    "muj_soubor = open(\"demo.txt\", mode=\"r\")"
   ]
  },
  {
   "cell_type": "code",
   "execution_count": 89,
   "metadata": {},
   "outputs": [
    {
     "name": "stdout",
     "output_type": "stream",
     "text": [
      "False\n",
      "True\n"
     ]
    }
   ],
   "source": [
    "with open(\"muj_zapsany.txt\", mode=\"r\") as muj_soubor:  # open\n",
    "    # print(muj_soubor.readlines())               # process + close\n",
    "    # Nastane chyba! IndexError --> Nevadí \"with\" ukončí spojení\n",
    "    print(muj_soubor.closed)\n",
    "print(muj_soubor.closed)"
   ]
  },
  {
   "cell_type": "code",
   "execution_count": 88,
   "metadata": {},
   "outputs": [
    {
     "data": {
      "text/plain": [
       "True"
      ]
     },
     "execution_count": 88,
     "metadata": {},
     "output_type": "execute_result"
    }
   ],
   "source": [
    "muj_soubor.closed"
   ]
  },
  {
   "cell_type": "markdown",
   "metadata": {},
   "source": [
    "<br>\n",
    "\n",
    "### 🧠 CVIČENÍ 2 🧠, práce s textovými souborem:\n",
    "---"
   ]
  },
  {
   "cell_type": "markdown",
   "metadata": {},
   "source": [
    "- Definuj funkci `precti_logy`, která splňuje:\n",
    "    - parametr: `soubor` (string),\n",
    "    - vrací: seznam záznamů z logovacího souboru,\n",
    "    - popis: Tato funkce přečte obsah logovacích souboru. Kde každý řádek bude oddělený údaj sekvence.\n",
    "\n",
    "- definuj funkci `vyber_pouze_typ`, která splňuje:\n",
    "    - parametr: `obsah_souboru` (list),\n",
    "    - vrací: tuple,\n",
    "    - popis: Tato funkce ze zadaného seznamu logů rozdělí každý řádek a uloží pouze typ logovací zprávy (`INFO`, `WARN`, ...). Výsledný údaj vrať jako `tuple`."
   ]
  },
  {
   "cell_type": "code",
   "execution_count": null,
   "metadata": {},
   "outputs": [],
   "source": [
    "zaznamy = \"\"\"\\\n",
    "INFO 2023-07-26 10:30:22 Aplikace úspěšně spuštěna\n",
    "INFO 2023-07-26 10:31:12 Uživatel přihlášen\n",
    "WARN 2023-07-26 10:35:05 Nedostatek místa na disku\n",
    "INFO 2023-07-26 10:36:17 Data úspěšně uložena\n",
    "ERROR 2023-07-26 10:40:44 Připojení k databázi selhalo\n",
    "WARN 2023-07-26 10:45:30 Možná chyba v konfiguraci\n",
    "ERROR 2023-07-26 10:50:01 Nelze odeslat e-mail\n",
    "INFO 2023-07-26 10:55:12 Aplikace úspěšně ukončena\n",
    "\"\"\""
   ]
  },
  {
   "cell_type": "code",
   "execution_count": 93,
   "metadata": {},
   "outputs": [],
   "source": [
    "obsah_txt = precti_logy(jmeno_souboru='logs.txt')"
   ]
  },
  {
   "cell_type": "code",
   "execution_count": 94,
   "metadata": {},
   "outputs": [
    {
     "name": "stdout",
     "output_type": "stream",
     "text": [
      "INFO\n",
      "INFO\n",
      "WARN\n",
      "INFO\n",
      "ERROR\n",
      "WARN\n",
      "ERROR\n",
      "INFO\n"
     ]
    }
   ],
   "source": [
    "typy_zprav = vyber_pouze_typy(obsah_txt=obsah_txt)"
   ]
  },
  {
   "cell_type": "code",
   "execution_count": 95,
   "metadata": {},
   "outputs": [
    {
     "data": {
      "text/plain": [
       "{'ERROR', 'INFO', 'WARN'}"
      ]
     },
     "execution_count": 95,
     "metadata": {},
     "output_type": "execute_result"
    }
   ],
   "source": [
    "typy_zprav"
   ]
  },
  {
   "cell_type": "code",
   "execution_count": 107,
   "metadata": {},
   "outputs": [
    {
     "data": {
      "text/plain": [
       "{'ERROR', 'INFO', 'WARN'}"
      ]
     },
     "execution_count": 107,
     "metadata": {},
     "output_type": "execute_result"
    }
   ],
   "source": [
    "set(typy_zprav)"
   ]
  },
  {
   "cell_type": "code",
   "execution_count": 55,
   "metadata": {},
   "outputs": [
    {
     "data": {
      "text/plain": [
       "frozenset({'ERROR', 'INFO', 'WARN'})"
      ]
     },
     "execution_count": 55,
     "metadata": {},
     "output_type": "execute_result"
    }
   ],
   "source": [
    "frozenset(typy_zprav)"
   ]
  },
  {
   "cell_type": "markdown",
   "metadata": {},
   "source": [
    "<details>\n",
    "    <summary>▶️ Řešení</summary>\n",
    "    \n",
    "```python\n",
    "def precti_logy(soubor: str) -> list:\n",
    "    muj_soubor = open(soubor, mode='w')\n",
    "    obsah_souboru = muj_soubor.readlines()\n",
    "    return obsah_souboru\n",
    "    \n",
    "\n",
    "def vyber_pouze_typ(obsah_souboru: list) -> tuple:\n",
    "    return tuple(\n",
    "        [log.split()[0] for log in obsah_souboru if len(log) > 3]\n",
    "    )\n",
    "```\n",
    "</details>"
   ]
  },
  {
   "cell_type": "markdown",
   "metadata": {},
   "source": [
    "<br>\n",
    "\n",
    "<img src=\"https://external-content.duckduckgo.com/iu/?u=https%3A%2F%2Ftse1.mm.bing.net%2Fth%3Fid%3DOIP.eIepNW0QqoKS0nHKxdHb_gHaHa%26pid%3DApi&f=1&ipt=f8fbd56c24a7f9c26b35553a95d220e93ce3bdce6bce019cdf455c712cd8e1b5&ipo=images\" width=\"200\" style=\"margin-left:auto; margin-right:auto\">"
   ]
  },
  {
   "cell_type": "markdown",
   "metadata": {},
   "source": [
    "## Formátování řetězců (~string formatting)\n",
    "\n",
    "---\n",
    "\n",
    "Jde o způsob, jakým efektivně zapisovat klasický string ve spojením se jmény proměnných, doplňujícím upravováním a dalšími variantami.\n",
    "\n",
    "<br>"
   ]
  },
  {
   "cell_type": "markdown",
   "metadata": {},
   "source": [
    "### Formátování řetězců\n",
    "\n",
    "---\n",
    "\n",
    "Povíme si více o těchto třech způsobech:\n",
    "1. **Formátovací výraz** (`%`-formatting)\n",
    "2. **Formátovací metoda** (`str.format()`)\n",
    "3. **Formátovaný string** (`f\"\"`)\n",
    "\n",
    "<br>"
   ]
  },
  {
   "cell_type": "markdown",
   "metadata": {},
   "source": [
    "### Formátovací výraz\n",
    "\n",
    "---\n",
    "\n",
    "Je to prapůvodní způsob formátování stringu v Pythonu už od uplného začátku:"
   ]
  },
  {
   "cell_type": "code",
   "execution_count": 58,
   "metadata": {},
   "outputs": [
    {
     "data": {
      "text/plain": [
       "'Ahoj, jmenuji se Lukas a je mi 27 let'"
      ]
     },
     "execution_count": 58,
     "metadata": {},
     "output_type": "execute_result"
    }
   ],
   "source": [
    "JMENO = \"Lukas\"\n",
    "VEK = 27\n",
    "\"Ahoj, jmenuji se %s a je mi %d let\" % (JMENO, VEK)"
   ]
  },
  {
   "cell_type": "code",
   "execution_count": 59,
   "metadata": {},
   "outputs": [
    {
     "data": {
      "text/plain": [
       "'Ahoj, jmenuji se Lukas a je mi 27 let'"
      ]
     },
     "execution_count": 59,
     "metadata": {},
     "output_type": "execute_result"
    }
   ],
   "source": [
    "\"Ahoj, jmenuji se \" + JMENO + \" a je mi \" + str(VEK) + \" let\""
   ]
  },
  {
   "cell_type": "markdown",
   "metadata": {},
   "source": [
    "<br>\n",
    "\n",
    "**Pozor!** dnes se již oficiálně nedoporučuje, jelikož často selhává, nesprávně zobrazuje tuple nebo slovníky. Vypisování není příliš praktické.\n",
    "\n",
    "<br>\n",
    "\n",
    "### Formátovací metoda\n",
    "\n",
    "---\n",
    "\n",
    "Od verze Pythonu 2.6 máme k dispozici další způsob pro formátování:"
   ]
  },
  {
   "cell_type": "code",
   "execution_count": 108,
   "metadata": {},
   "outputs": [
    {
     "data": {
      "text/plain": [
       "'Ahoj, jmenuji se Eliška a je mi 26 let'"
      ]
     },
     "execution_count": 108,
     "metadata": {},
     "output_type": "execute_result"
    }
   ],
   "source": [
    "JMENO = \"Eliška\"\n",
    "VEK = 26\n",
    "\"Ahoj, jmenuji se {} a je mi {} let\".format(JMENO, VEK)"
   ]
  },
  {
   "cell_type": "code",
   "execution_count": 109,
   "metadata": {},
   "outputs": [
    {
     "data": {
      "text/plain": [
       "'Ahoj, jmenuji se 26 a je mi Eliška let'"
      ]
     },
     "execution_count": 109,
     "metadata": {},
     "output_type": "execute_result"
    }
   ],
   "source": [
    "JMENO = \"Eliška\"\n",
    "VEK = 26\n",
    "\"Ahoj, jmenuji se {} a je mi {} let\".format(VEK, JMENO)"
   ]
  },
  {
   "cell_type": "code",
   "execution_count": 6,
   "metadata": {},
   "outputs": [
    {
     "data": {
      "text/plain": [
       "'Ahoj, jmenuji se Eliška a je mi 26 let'"
      ]
     },
     "execution_count": 6,
     "metadata": {},
     "output_type": "execute_result"
    }
   ],
   "source": [
    "JMENO = \"Eliška\"\n",
    "VEK = 26\n",
    "\"Ahoj, jmenuji se {1} a je mi {0} let\".format(VEK, JMENO)"
   ]
  },
  {
   "cell_type": "markdown",
   "metadata": {},
   "source": [
    "<br>\n",
    "\n",
    "**Pozor!** použití je pořád poměrně upovídaní např. při zápisu více proměnných. Má rozhodně široké možnosti formátování, ale vždy prakticky použitelné.\n",
    "\n",
    "<br>\n",
    "\n",
    "### 🔝 Formátovaný string (f-string)\n",
    "\n",
    "---\n",
    "\n",
    "Od verze Pythonu 3.6 máme k dispozici ještě třetí metodu pro formátování stringů."
   ]
  },
  {
   "cell_type": "code",
   "execution_count": 110,
   "metadata": {},
   "outputs": [
    {
     "data": {
      "text/plain": [
       "'Ahoj, jmenuji se Lucie a je mi 28 let'"
      ]
     },
     "execution_count": 110,
     "metadata": {},
     "output_type": "execute_result"
    }
   ],
   "source": [
    "JMENO = \"Lucie\"\n",
    "VEK = 28\n",
    "f\"Ahoj, jmenuji se {JMENO} a je mi {VEK} let\""
   ]
  },
  {
   "cell_type": "code",
   "execution_count": 113,
   "metadata": {},
   "outputs": [
    {
     "ename": "SyntaxError",
     "evalue": "f-string: unmatched '[' (3031223906.py, line 3)",
     "output_type": "error",
     "traceback": [
      "\u001b[0;36m  Cell \u001b[0;32mIn[113], line 3\u001b[0;36m\u001b[0m\n\u001b[0;31m    f\"Ahoj, jmenuji se {d[\"jmeno\"]} a je mi {VEK} let\"\u001b[0m\n\u001b[0m                           ^\u001b[0m\n\u001b[0;31mSyntaxError\u001b[0m\u001b[0;31m:\u001b[0m f-string: unmatched '['\n"
     ]
    }
   ],
   "source": [
    "d = {\"jmeno\": \"Lucie\"}\n",
    "\n",
    "f\"Ahoj, jmenuji se {d[\"jmeno\"]} a je mi {VEK} let\""
   ]
  },
  {
   "cell_type": "markdown",
   "metadata": {},
   "source": [
    "<br>\n",
    "\n",
    "Syntaxe je stručná přesto čitelná. Zvládá různé platné operace v Pythonu včetně volání funkcí. Opatrně při důsledném zapisování uvozovek."
   ]
  },
  {
   "cell_type": "code",
   "execution_count": 114,
   "metadata": {},
   "outputs": [
    {
     "data": {
      "text/plain": [
       "'|  Lucie   |    28    |'"
      ]
     },
     "execution_count": 114,
     "metadata": {},
     "output_type": "execute_result"
    }
   ],
   "source": [
    "f\"|{JMENO:^10}|{VEK:^10}|\""
   ]
  },
  {
   "cell_type": "markdown",
   "metadata": {},
   "source": [
    "<br>\n",
    "\n",
    "Vhodná také pro zaokrouhlování desetinných čísel a převádění číselných hodnot na procenta:"
   ]
  },
  {
   "cell_type": "code",
   "execution_count": 115,
   "metadata": {},
   "outputs": [
    {
     "name": "stdout",
     "output_type": "stream",
     "text": [
      "value: 11.123\n"
     ]
    }
   ],
   "source": [
    "value = 11.12345555555666666\n",
    "print(f\"value: {value:.3f}\")"
   ]
  },
  {
   "cell_type": "code",
   "execution_count": 66,
   "metadata": {},
   "outputs": [
    {
     "name": "stdout",
     "output_type": "stream",
     "text": [
      "Ahoj, já jsem Matouš\n"
     ]
    }
   ],
   "source": [
    "data = {'name': 'Matouš'}\n",
    "print(f\"Ahoj, já jsem {data['name']}\")"
   ]
  },
  {
   "cell_type": "code",
   "execution_count": 96,
   "metadata": {},
   "outputs": [
    {
     "data": {
      "text/plain": [
       "'Příliš'"
      ]
     },
     "execution_count": 96,
     "metadata": {},
     "output_type": "execute_result"
    }
   ],
   "source": [
    "\"Příliš\""
   ]
  },
  {
   "cell_type": "code",
   "execution_count": 97,
   "metadata": {},
   "outputs": [
    {
     "name": "stdout",
     "output_type": "stream",
     "text": [
      "Příliš žluťoučký kůň úpěl ďábelské ódy.\n",
      "\n"
     ]
    }
   ],
   "source": [
    "# Diacritics with utf-8 encoding\n",
    "muj_existujici_soubor = open(\"czech.txt\", \"r\", encoding=\"utf-8\")\n",
    "obsah_txt = muj_existujici_soubor.read()\n",
    "print(obsah_txt)\n",
    "muj_existujici_soubor.close()"
   ]
  },
  {
   "cell_type": "code",
   "execution_count": 49,
   "metadata": {},
   "outputs": [
    {
     "data": {
      "text/plain": [
       "65"
      ]
     },
     "execution_count": 49,
     "metadata": {},
     "output_type": "execute_result"
    }
   ],
   "source": [
    "ord(\"A\")  # vrací ze znaku číselné označení (Unicode standart)"
   ]
  },
  {
   "cell_type": "code",
   "execution_count": 50,
   "metadata": {},
   "outputs": [
    {
     "data": {
      "text/plain": [
       "65"
      ]
     },
     "execution_count": 50,
     "metadata": {},
     "output_type": "execute_result"
    }
   ],
   "source": [
    "0x41      # hex "
   ]
  },
  {
   "cell_type": "code",
   "execution_count": 51,
   "metadata": {},
   "outputs": [
    {
     "data": {
      "text/plain": [
       "'A'"
      ]
     },
     "execution_count": 51,
     "metadata": {},
     "output_type": "execute_result"
    }
   ],
   "source": [
    "# misto 0...9      ->   0....F\n",
    "# A = 10, B = 11, C = 12, ...\n",
    "chr(65)   # vrací z číselného označení znak"
   ]
  },
  {
   "cell_type": "code",
   "execution_count": 52,
   "metadata": {},
   "outputs": [
    {
     "data": {
      "text/plain": [
       "(65, 65)"
      ]
     },
     "execution_count": 52,
     "metadata": {},
     "output_type": "execute_result"
    }
   ],
   "source": [
    "ord(\"A\"), 0x41"
   ]
  },
  {
   "cell_type": "code",
   "execution_count": 53,
   "metadata": {},
   "outputs": [
    {
     "data": {
      "text/plain": [
       "b'P\\xc5\\x99\\xc3\\xadli\\xc5\\xa1 \\xc5\\xbelu\\xc5\\xa5ou\\xc4\\x8dk\\xc3\\xbd k\\xc5\\xaf\\xc5\\x88 \\xc3\\xbap\\xc4\\x9bl \\xc4\\x8f\\xc3\\xa1belsk\\xc3\\xa9 \\xc3\\xb3dy.\\n'"
      ]
     },
     "execution_count": 53,
     "metadata": {},
     "output_type": "execute_result"
    }
   ],
   "source": [
    "bytes(obsah_txt, encoding=\"utf-8\")"
   ]
  },
  {
   "cell_type": "code",
   "execution_count": 70,
   "metadata": {},
   "outputs": [
    {
     "data": {
      "text/plain": [
       "'ř'"
      ]
     },
     "execution_count": 70,
     "metadata": {},
     "output_type": "execute_result"
    }
   ],
   "source": [
    "str(b\"\\xc5\\x99\", \"utf-8\")"
   ]
  },
  {
   "cell_type": "code",
   "execution_count": 55,
   "metadata": {},
   "outputs": [
    {
     "data": {
      "text/plain": [
       "b'\\xf0\\x9f\\x98\\x8e'"
      ]
     },
     "execution_count": 55,
     "metadata": {},
     "output_type": "execute_result"
    }
   ],
   "source": [
    "bytes(\"😎\", encoding=\"utf-8\")"
   ]
  },
  {
   "cell_type": "code",
   "execution_count": null,
   "metadata": {},
   "outputs": [
    {
     "data": {
      "text/plain": [
       "(40, 55)"
      ]
     },
     "execution_count": 56,
     "metadata": {},
     "output_type": "execute_result"
    }
   ],
   "source": [
    "len(obsah_txt), len(bytes(obsah_txt, encoding=\"utf-8\"))"
   ]
  },
  {
   "cell_type": "code",
   "execution_count": 100,
   "metadata": {},
   "outputs": [
    {
     "data": {
      "text/plain": [
       "'Pli luouk k pl belsk dy.\\n'"
      ]
     },
     "execution_count": 100,
     "metadata": {},
     "output_type": "execute_result"
    }
   ],
   "source": [
    "muj_existujici_soubor = open(\"czech.txt\", \"r\", encoding=\"ascii\", errors=\"ignore\")\n",
    "muj_existujici_soubor.read()"
   ]
  },
  {
   "cell_type": "code",
   "execution_count": 101,
   "metadata": {},
   "outputs": [
    {
     "data": {
      "text/plain": [
       "1"
      ]
     },
     "execution_count": 101,
     "metadata": {},
     "output_type": "execute_result"
    }
   ],
   "source": [
    "# Diacritics with utf-8 encoding\n",
    "muj_existujici_soubor = open(\"czech.txt\", \"r\", encoding=\"utf-8\")\n",
    "muj_existujici_soubor.read(1)\n",
    "muj_existujici_soubor.tell()"
   ]
  },
  {
   "cell_type": "code",
   "execution_count": 102,
   "metadata": {},
   "outputs": [
    {
     "data": {
      "text/plain": [
       "3"
      ]
     },
     "execution_count": 102,
     "metadata": {},
     "output_type": "execute_result"
    }
   ],
   "source": [
    "muj_existujici_soubor.read(1)\n",
    "muj_existujici_soubor.tell()"
   ]
  },
  {
   "cell_type": "code",
   "execution_count": 72,
   "metadata": {},
   "outputs": [
    {
     "data": {
      "text/plain": [
       "'ř'"
      ]
     },
     "execution_count": 72,
     "metadata": {},
     "output_type": "execute_result"
    }
   ],
   "source": [
    "muj_existujici_soubor.seek(1)\n",
    "muj_existujici_soubor.read(1)"
   ]
  },
  {
   "cell_type": "code",
   "execution_count": 74,
   "metadata": {},
   "outputs": [
    {
     "data": {
      "text/plain": [
       "'í'"
      ]
     },
     "execution_count": 74,
     "metadata": {},
     "output_type": "execute_result"
    }
   ],
   "source": [
    "muj_existujici_soubor.seek(3)\n",
    "muj_existujici_soubor.read(1)"
   ]
  },
  {
   "cell_type": "code",
   "execution_count": 65,
   "metadata": {},
   "outputs": [],
   "source": [
    "muj_existujici_soubor.close()"
   ]
  },
  {
   "cell_type": "code",
   "execution_count": 227,
   "metadata": {},
   "outputs": [
    {
     "name": "stdout",
     "output_type": "stream",
     "text": [
      "Python (英國發音：/ˈpaɪθən/ 美國發音：/ˈpaɪθɑːn/），是一种广泛使用的解释型、高级和通用的编程语言。Python支持多种编程范型，包括函数式、指令式、反射式、结构化和面向对象编程。它拥有动态类型系统和垃圾回收功能，能够自动管理内存使用，并且其本身拥有一个巨大而广泛的标准库。它的语言结构以及面向对象的方法，旨在帮助程序员为小型的和大型的项目编写清晰的、合乎逻辑的代码。\n"
     ]
    }
   ],
   "source": [
    "muj_existujici_soubor = open(\"chinese.txt\", \"r\", encoding=\"utf-8\")\n",
    "print(muj_existujici_soubor.read())\n",
    "muj_existujici_soubor.close()"
   ]
  },
  {
   "cell_type": "code",
   "execution_count": 232,
   "metadata": {},
   "outputs": [
    {
     "name": "stdout",
     "output_type": "stream",
     "text": [
      "Slunce svítí nad zelenými loukam\n",
      "Dnes je krásný den plný radosti.\n",
      "Ptáci zpívají na rozkvetlém stromě.\n",
      "Děti si hrají na hřišti u lesa.\n",
      "Večer budeme opékat buřty u ohně.\n",
      "Kniha na stole je velmi zajímavá.\n",
      "Město se probouzí do nového dne.\n",
      "Auto projelo kolem starého mostu.\n",
      "Voda v řece je dnes velmi studená.\n",
      "Zítra půjdu na výklet do hor.\n",
      "\n"
     ]
    }
   ],
   "source": [
    "muj_existujici_soubor = open(\"viceradkovy_soubor.txt\", mode=\"r+\")\n",
    "print(muj_existujici_soubor.read())"
   ]
  },
  {
   "cell_type": "code",
   "execution_count": 233,
   "metadata": {},
   "outputs": [
    {
     "data": {
      "text/plain": [
       "364"
      ]
     },
     "execution_count": 233,
     "metadata": {},
     "output_type": "execute_result"
    }
   ],
   "source": [
    "muj_existujici_soubor.tell()"
   ]
  },
  {
   "cell_type": "code",
   "execution_count": 234,
   "metadata": {},
   "outputs": [
    {
     "data": {
      "text/plain": [
       "12"
      ]
     },
     "execution_count": 234,
     "metadata": {},
     "output_type": "execute_result"
    }
   ],
   "source": [
    "muj_existujici_soubor.write(\"\\nNovy radek!\")"
   ]
  },
  {
   "cell_type": "code",
   "execution_count": 236,
   "metadata": {},
   "outputs": [
    {
     "name": "stdout",
     "output_type": "stream",
     "text": [
      "Slunce svítí nad zelenými loukam\n",
      "Dnes je krásný den plný radosti.\n",
      "Ptáci zpívají na rozkvetlém stromě.\n",
      "Děti si hrají na hřišti u lesa.\n",
      "Večer budeme opékat buřty u ohně.\n",
      "Kniha na stole je velmi zajímavá.\n",
      "Město se probouzí do nového dne.\n",
      "Auto projelo kolem starého mostu.\n",
      "Voda v řece je dnes velmi studená.\n",
      "Zítra půjdu na výklet do hor.\n",
      "\n",
      "Novy radek!\n"
     ]
    }
   ],
   "source": [
    "muj_existujici_soubor.seek(0)\n",
    "print(muj_existujici_soubor.read())"
   ]
  },
  {
   "cell_type": "code",
   "execution_count": 238,
   "metadata": {},
   "outputs": [],
   "source": [
    "muj_existujici_soubor.close()"
   ]
  },
  {
   "cell_type": "code",
   "execution_count": 239,
   "metadata": {},
   "outputs": [
    {
     "name": "stdout",
     "output_type": "stream",
     "text": [
      "Slunce svítí nad zelenými loukam\n",
      "Dnes je krásný den plný radosti.\n",
      "Ptáci zpívají na rozkvetlém stromě.\n",
      "Děti si hrají na hřišti u lesa.\n",
      "Večer budeme opékat buřty u ohně.\n",
      "Kniha na stole je velmi zajímavá.\n",
      "Město se probouzí do nového dne.\n",
      "Auto projelo kolem starého mostu.\n",
      "Voda v řece je dnes velmi studená.\n",
      "Zítra půjdu na výklet do hor.\n",
      "\n"
     ]
    }
   ],
   "source": [
    "muj_existujici_soubor = open(\"viceradkovy_soubor_kopie.txt\", mode=\"r+\")\n",
    "print(muj_existujici_soubor.read())"
   ]
  },
  {
   "cell_type": "code",
   "execution_count": 74,
   "metadata": {},
   "outputs": [
    {
     "data": {
      "text/plain": [
       "35"
      ]
     },
     "execution_count": 74,
     "metadata": {},
     "output_type": "execute_result"
    }
   ],
   "source": [
    "len(\"Slunce svítí nad zelenými loukami.\\n\")"
   ]
  },
  {
   "cell_type": "code",
   "execution_count": 240,
   "metadata": {},
   "outputs": [
    {
     "data": {
      "text/plain": [
       "21"
      ]
     },
     "execution_count": 240,
     "metadata": {},
     "output_type": "execute_result"
    }
   ],
   "source": [
    "muj_existujici_soubor.seek(35)\n",
    "muj_existujici_soubor.write(\"\\nNovy radek uprostred\")"
   ]
  },
  {
   "cell_type": "code",
   "execution_count": 241,
   "metadata": {},
   "outputs": [
    {
     "name": "stdout",
     "output_type": "stream",
     "text": [
      "Slunce svítí nad zelenými loukam\n",
      "Novy radek uprostred plný radosti.\n",
      "Ptáci zpívají na rozkvetlém stromě.\n",
      "Děti si hrají na hřišti u lesa.\n",
      "Večer budeme opékat buřty u ohně.\n",
      "Kniha na stole je velmi zajímavá.\n",
      "Město se probouzí do nového dne.\n",
      "Auto projelo kolem starého mostu.\n",
      "Voda v řece je dnes velmi studená.\n",
      "Zítra půjdu na výklet do hor.\n",
      "\n"
     ]
    }
   ],
   "source": [
    "muj_existujici_soubor.seek(0)\n",
    "print(muj_existujici_soubor.read())"
   ]
  },
  {
   "cell_type": "code",
   "execution_count": 242,
   "metadata": {},
   "outputs": [],
   "source": [
    "muj_existujici_soubor.close()"
   ]
  },
  {
   "cell_type": "code",
   "execution_count": 248,
   "metadata": {},
   "outputs": [
    {
     "data": {
      "text/plain": [
       "'Slunce svítí nad zelenými loukam\\n'"
      ]
     },
     "execution_count": 248,
     "metadata": {},
     "output_type": "execute_result"
    }
   ],
   "source": [
    "muj_existujici_soubor = open(\"viceradkovy_soubor.txt\", mode=\"r\")\n",
    "radek = muj_existujici_soubor.readline()\n",
    "radek"
   ]
  },
  {
   "cell_type": "code",
   "execution_count": 249,
   "metadata": {},
   "outputs": [
    {
     "data": {
      "text/plain": [
       "33"
      ]
     },
     "execution_count": 249,
     "metadata": {},
     "output_type": "execute_result"
    }
   ],
   "source": [
    "novy_soubor = open(\"viceradkovy_soubor_kopie.txt\", mode=\"w\")\n",
    "novy_soubor.write(radek)"
   ]
  },
  {
   "cell_type": "code",
   "execution_count": 250,
   "metadata": {},
   "outputs": [
    {
     "data": {
      "text/plain": [
       "21"
      ]
     },
     "execution_count": 250,
     "metadata": {},
     "output_type": "execute_result"
    }
   ],
   "source": [
    "novy_soubor.write(\"Novy radek uprostred\\n\")"
   ]
  },
  {
   "cell_type": "code",
   "execution_count": 251,
   "metadata": {},
   "outputs": [],
   "source": [
    "for radek in muj_existujici_soubor:\n",
    "    novy_soubor.write(radek)\n",
    "novy_soubor.write(\"\\nNovy radek na konci\")\n",
    "novy_soubor.close()"
   ]
  },
  {
   "cell_type": "markdown",
   "metadata": {},
   "source": [
    "---"
   ]
  }
 ],
 "metadata": {
  "kernelspec": {
   "display_name": "Python 3",
   "language": "python",
   "name": "python3"
  },
  "language_info": {
   "codemirror_mode": {
    "name": "ipython",
    "version": 3
   },
   "file_extension": ".py",
   "mimetype": "text/x-python",
   "name": "python",
   "nbconvert_exporter": "python",
   "pygments_lexer": "ipython3",
   "version": "3.10.4"
  }
 },
 "nbformat": 4,
 "nbformat_minor": 4
}
